{
 "cells": [
  {
   "cell_type": "markdown",
   "metadata": {},
   "source": [
    "# Invert & Extrovert Personality Prediction\n",
    "## Simple Logistic Regression Model by Abdul Wajad"
   ]
  },
  {
   "cell_type": "code",
   "execution_count": 35,
   "metadata": {},
   "outputs": [],
   "source": [
    "# importing required liberaries\n",
    "import pandas as pd\n",
    "import numpy as np\n",
    "import scipy.stats as stats\n",
    "from warnings import filterwarnings\n",
    "filterwarnings('ignore')"
   ]
  },
  {
   "cell_type": "code",
   "execution_count": 36,
   "metadata": {},
   "outputs": [
    {
     "name": "stdout",
     "output_type": "stream",
     "text": [
      "First few rows of the dataframe:\n",
      "   id  Time_spent_Alone Stage_fear  Social_event_attendance  Going_outside  \\\n",
      "0   0               0.0         No                      6.0            4.0   \n",
      "1   1               1.0         No                      7.0            3.0   \n",
      "2   2               6.0        Yes                      1.0            0.0   \n",
      "3   3               3.0         No                      7.0            3.0   \n",
      "4   4               1.0         No                      4.0            4.0   \n",
      "\n",
      "  Drained_after_socializing  Friends_circle_size  Post_frequency Personality  \n",
      "0                        No                 15.0             5.0   Extrovert  \n",
      "1                        No                 10.0             8.0   Extrovert  \n",
      "2                       NaN                  3.0             0.0   Introvert  \n",
      "3                        No                 11.0             5.0   Extrovert  \n",
      "4                        No                 13.0             NaN   Extrovert  \n"
     ]
    }
   ],
   "source": [
    "file_path = r\"D:\\Local Disk\\_python_prog\\awfera ML\\train.csv\"\n",
    "# reading the csv file\n",
    "df = pd.read_csv(file_path)\n",
    "# Display the first few rows of the dataframe\n",
    "print(\"First few rows of the dataframe:\")\n",
    "print(df.head())"
   ]
  },
  {
   "cell_type": "markdown",
   "metadata": {},
   "source": [
    "## Data Preprocessing"
   ]
  },
  {
   "cell_type": "code",
   "execution_count": 37,
   "metadata": {},
   "outputs": [
    {
     "name": "stdout",
     "output_type": "stream",
     "text": [
      "<class 'pandas.core.frame.DataFrame'>\n",
      "RangeIndex: 18524 entries, 0 to 18523\n",
      "Data columns (total 9 columns):\n",
      " #   Column                     Non-Null Count  Dtype  \n",
      "---  ------                     --------------  -----  \n",
      " 0   id                         18524 non-null  int64  \n",
      " 1   Time_spent_Alone           17334 non-null  float64\n",
      " 2   Stage_fear                 16631 non-null  object \n",
      " 3   Social_event_attendance    17344 non-null  float64\n",
      " 4   Going_outside              17058 non-null  float64\n",
      " 5   Drained_after_socializing  17375 non-null  object \n",
      " 6   Friends_circle_size        17470 non-null  float64\n",
      " 7   Post_frequency             17260 non-null  float64\n",
      " 8   Personality                18524 non-null  object \n",
      "dtypes: float64(5), int64(1), object(3)\n",
      "memory usage: 1.3+ MB\n"
     ]
    }
   ],
   "source": [
    "# Display the summary of the dataframe\n",
    "df.info()\n"
   ]
  },
  {
   "cell_type": "code",
   "execution_count": 38,
   "metadata": {},
   "outputs": [
    {
     "data": {
      "text/plain": [
       "id                             int64\n",
       "Time_spent_Alone             float64\n",
       "Stage_fear                    object\n",
       "Social_event_attendance      float64\n",
       "Going_outside                float64\n",
       "Drained_after_socializing     object\n",
       "Friends_circle_size          float64\n",
       "Post_frequency               float64\n",
       "Personality                   object\n",
       "dtype: object"
      ]
     },
     "execution_count": 38,
     "metadata": {},
     "output_type": "execute_result"
    }
   ],
   "source": [
    "# Display the data types of the dataframe\n",
    "df.dtypes"
   ]
  },
  {
   "cell_type": "code",
   "execution_count": 39,
   "metadata": {},
   "outputs": [
    {
     "data": {
      "text/plain": [
       "(18524, 9)"
      ]
     },
     "execution_count": 39,
     "metadata": {},
     "output_type": "execute_result"
    }
   ],
   "source": [
    "# Display the shape of the dataframe\n",
    "df.shape"
   ]
  },
  {
   "cell_type": "code",
   "execution_count": 40,
   "metadata": {},
   "outputs": [
    {
     "name": "stdout",
     "output_type": "stream",
     "text": [
      "Missing values in each column:\n",
      "id                              0\n",
      "Time_spent_Alone             1190\n",
      "Stage_fear                   1893\n",
      "Social_event_attendance      1180\n",
      "Going_outside                1466\n",
      "Drained_after_socializing    1149\n",
      "Friends_circle_size          1054\n",
      "Post_frequency               1264\n",
      "Personality                     0\n",
      "dtype: int64\n"
     ]
    }
   ],
   "source": [
    "# checking missing values\n",
    "print(\"Missing values in each column:\")\n",
    "print(df.isnull().sum())"
   ]
  },
  {
   "cell_type": "code",
   "execution_count": 41,
   "metadata": {},
   "outputs": [
    {
     "data": {
      "text/html": [
       "<div>\n",
       "<style scoped>\n",
       "    .dataframe tbody tr th:only-of-type {\n",
       "        vertical-align: middle;\n",
       "    }\n",
       "\n",
       "    .dataframe tbody tr th {\n",
       "        vertical-align: top;\n",
       "    }\n",
       "\n",
       "    .dataframe thead th {\n",
       "        text-align: right;\n",
       "    }\n",
       "</style>\n",
       "<table border=\"1\" class=\"dataframe\">\n",
       "  <thead>\n",
       "    <tr style=\"text-align: right;\">\n",
       "      <th></th>\n",
       "      <th>id</th>\n",
       "      <th>Time_spent_Alone</th>\n",
       "      <th>Stage_fear</th>\n",
       "      <th>Social_event_attendance</th>\n",
       "      <th>Going_outside</th>\n",
       "      <th>Drained_after_socializing</th>\n",
       "      <th>Friends_circle_size</th>\n",
       "      <th>Post_frequency</th>\n",
       "      <th>Personality</th>\n",
       "    </tr>\n",
       "  </thead>\n",
       "  <tbody>\n",
       "    <tr>\n",
       "      <th>0</th>\n",
       "      <td>0</td>\n",
       "      <td>0.0</td>\n",
       "      <td>No</td>\n",
       "      <td>6.0</td>\n",
       "      <td>4.0</td>\n",
       "      <td>No</td>\n",
       "      <td>15.0</td>\n",
       "      <td>5.0</td>\n",
       "      <td>Extrovert</td>\n",
       "    </tr>\n",
       "    <tr>\n",
       "      <th>1</th>\n",
       "      <td>1</td>\n",
       "      <td>1.0</td>\n",
       "      <td>No</td>\n",
       "      <td>7.0</td>\n",
       "      <td>3.0</td>\n",
       "      <td>No</td>\n",
       "      <td>10.0</td>\n",
       "      <td>8.0</td>\n",
       "      <td>Extrovert</td>\n",
       "    </tr>\n",
       "    <tr>\n",
       "      <th>2</th>\n",
       "      <td>2</td>\n",
       "      <td>6.0</td>\n",
       "      <td>Yes</td>\n",
       "      <td>1.0</td>\n",
       "      <td>0.0</td>\n",
       "      <td>NaN</td>\n",
       "      <td>3.0</td>\n",
       "      <td>0.0</td>\n",
       "      <td>Introvert</td>\n",
       "    </tr>\n",
       "    <tr>\n",
       "      <th>3</th>\n",
       "      <td>3</td>\n",
       "      <td>3.0</td>\n",
       "      <td>No</td>\n",
       "      <td>7.0</td>\n",
       "      <td>3.0</td>\n",
       "      <td>No</td>\n",
       "      <td>11.0</td>\n",
       "      <td>5.0</td>\n",
       "      <td>Extrovert</td>\n",
       "    </tr>\n",
       "    <tr>\n",
       "      <th>4</th>\n",
       "      <td>4</td>\n",
       "      <td>1.0</td>\n",
       "      <td>No</td>\n",
       "      <td>4.0</td>\n",
       "      <td>4.0</td>\n",
       "      <td>No</td>\n",
       "      <td>13.0</td>\n",
       "      <td>NaN</td>\n",
       "      <td>Extrovert</td>\n",
       "    </tr>\n",
       "  </tbody>\n",
       "</table>\n",
       "</div>"
      ],
      "text/plain": [
       "   id  Time_spent_Alone Stage_fear  Social_event_attendance  Going_outside  \\\n",
       "0   0               0.0         No                      6.0            4.0   \n",
       "1   1               1.0         No                      7.0            3.0   \n",
       "2   2               6.0        Yes                      1.0            0.0   \n",
       "3   3               3.0         No                      7.0            3.0   \n",
       "4   4               1.0         No                      4.0            4.0   \n",
       "\n",
       "  Drained_after_socializing  Friends_circle_size  Post_frequency Personality  \n",
       "0                        No                 15.0             5.0   Extrovert  \n",
       "1                        No                 10.0             8.0   Extrovert  \n",
       "2                       NaN                  3.0             0.0   Introvert  \n",
       "3                        No                 11.0             5.0   Extrovert  \n",
       "4                        No                 13.0             NaN   Extrovert  "
      ]
     },
     "execution_count": 41,
     "metadata": {},
     "output_type": "execute_result"
    }
   ],
   "source": [
    "df.head()"
   ]
  },
  {
   "cell_type": "code",
   "execution_count": null,
   "metadata": {},
   "outputs": [],
   "source": []
  },
  {
   "cell_type": "markdown",
   "metadata": {},
   "source": [
    "## Handling missing values"
   ]
  },
  {
   "cell_type": "code",
   "execution_count": 42,
   "metadata": {},
   "outputs": [],
   "source": [
    "# Filling missing values in 'Time_spent_Alone' with the mean\n",
    "df['Time_spent_Alone'].fillna(df['Time_spent_Alone'].mean(), inplace=True)\n",
    "# Filling missing values in 'Stage_fear' with the mode of 'Stage_fear'\n",
    "df['Stage_fear'].fillna(df['Stage_fear'].mode()[0], inplace=True)\n",
    "# Filling missing values in 'Social_event_attendance' with the mean\n",
    "df['Social_event_attendance'].fillna(df['Social_event_attendance'].mean(), inplace=True)\n",
    "# Filling missing values in 'Going_outside' with the mean\n",
    "df['Going_outside'].fillna(df['Going_outside'].mean(), inplace=True)\n",
    "# Filling missing values in 'Drained_after_socializing' with the mode\n",
    "df['Drained_after_socializing'].fillna(df['Drained_after_socializing'].mode()[0], inplace=True)\n",
    "# Filling missing values in 'Friends_circle_size' with the mean\n",
    "df['Friends_circle_size'].fillna(df['Friends_circle_size'].mean(), inplace=True)\n",
    "# Filling missing values in 'Post_frequencye' with the mean\n",
    "df['Post_frequency'].fillna(df['Post_frequency'].mean(), inplace=True)\n",
    "\n",
    "\n",
    "\n",
    "\n"
   ]
  },
  {
   "cell_type": "code",
   "execution_count": 43,
   "metadata": {},
   "outputs": [
    {
     "data": {
      "text/plain": [
       "id                           0\n",
       "Time_spent_Alone             0\n",
       "Stage_fear                   0\n",
       "Social_event_attendance      0\n",
       "Going_outside                0\n",
       "Drained_after_socializing    0\n",
       "Friends_circle_size          0\n",
       "Post_frequency               0\n",
       "Personality                  0\n",
       "dtype: int64"
      ]
     },
     "execution_count": 43,
     "metadata": {},
     "output_type": "execute_result"
    }
   ],
   "source": [
    "# Checking missing values after filling\n",
    "df.isnull().sum()"
   ]
  },
  {
   "cell_type": "code",
   "execution_count": 44,
   "metadata": {},
   "outputs": [],
   "source": [
    "# dropping duplicate values\n",
    "df.drop_duplicates(inplace=True)"
   ]
  },
  {
   "cell_type": "code",
   "execution_count": 45,
   "metadata": {},
   "outputs": [
    {
     "data": {
      "text/plain": [
       "(18524, 9)"
      ]
     },
     "execution_count": 45,
     "metadata": {},
     "output_type": "execute_result"
    }
   ],
   "source": [
    "df.shape"
   ]
  },
  {
   "cell_type": "markdown",
   "metadata": {},
   "source": [
    "## Transforming the data"
   ]
  },
  {
   "cell_type": "code",
   "execution_count": 46,
   "metadata": {},
   "outputs": [],
   "source": [
    "cleaned_df = df.copy()\n"
   ]
  },
  {
   "cell_type": "code",
   "execution_count": 47,
   "metadata": {},
   "outputs": [
    {
     "data": {
      "text/html": [
       "<div>\n",
       "<style scoped>\n",
       "    .dataframe tbody tr th:only-of-type {\n",
       "        vertical-align: middle;\n",
       "    }\n",
       "\n",
       "    .dataframe tbody tr th {\n",
       "        vertical-align: top;\n",
       "    }\n",
       "\n",
       "    .dataframe thead th {\n",
       "        text-align: right;\n",
       "    }\n",
       "</style>\n",
       "<table border=\"1\" class=\"dataframe\">\n",
       "  <thead>\n",
       "    <tr style=\"text-align: right;\">\n",
       "      <th></th>\n",
       "      <th>id</th>\n",
       "      <th>Time_spent_Alone</th>\n",
       "      <th>Stage_fear</th>\n",
       "      <th>Social_event_attendance</th>\n",
       "      <th>Going_outside</th>\n",
       "      <th>Drained_after_socializing</th>\n",
       "      <th>Friends_circle_size</th>\n",
       "      <th>Post_frequency</th>\n",
       "      <th>Personality</th>\n",
       "    </tr>\n",
       "  </thead>\n",
       "  <tbody>\n",
       "    <tr>\n",
       "      <th>7750</th>\n",
       "      <td>7750</td>\n",
       "      <td>1.000000</td>\n",
       "      <td>No</td>\n",
       "      <td>5.0</td>\n",
       "      <td>5.0</td>\n",
       "      <td>No</td>\n",
       "      <td>11.0</td>\n",
       "      <td>7.0</td>\n",
       "      <td>Extrovert</td>\n",
       "    </tr>\n",
       "    <tr>\n",
       "      <th>16393</th>\n",
       "      <td>16393</td>\n",
       "      <td>3.137764</td>\n",
       "      <td>Yes</td>\n",
       "      <td>3.0</td>\n",
       "      <td>3.0</td>\n",
       "      <td>Yes</td>\n",
       "      <td>3.0</td>\n",
       "      <td>3.0</td>\n",
       "      <td>Introvert</td>\n",
       "    </tr>\n",
       "  </tbody>\n",
       "</table>\n",
       "</div>"
      ],
      "text/plain": [
       "          id  Time_spent_Alone Stage_fear  Social_event_attendance  \\\n",
       "7750    7750          1.000000         No                      5.0   \n",
       "16393  16393          3.137764        Yes                      3.0   \n",
       "\n",
       "       Going_outside Drained_after_socializing  Friends_circle_size  \\\n",
       "7750             5.0                        No                 11.0   \n",
       "16393            3.0                       Yes                  3.0   \n",
       "\n",
       "       Post_frequency Personality  \n",
       "7750              7.0   Extrovert  \n",
       "16393             3.0   Introvert  "
      ]
     },
     "execution_count": 47,
     "metadata": {},
     "output_type": "execute_result"
    }
   ],
   "source": [
    "cleaned_df.sample(2)"
   ]
  },
  {
   "cell_type": "markdown",
   "metadata": {},
   "source": [
    "## Feature Scaling\n"
   ]
  },
  {
   "cell_type": "code",
   "execution_count": 48,
   "metadata": {},
   "outputs": [],
   "source": [
    "from sklearn.preprocessing import MinMaxScaler, StandardScaler, LabelEncoder"
   ]
  },
  {
   "cell_type": "code",
   "execution_count": 49,
   "metadata": {},
   "outputs": [],
   "source": [
    "scaler = MinMaxScaler()\n",
    "cleaned_df[['Time_spent_Alone', 'Social_event_attendance', 'Going_outside',]] = scaler.fit_transform(cleaned_df[['Time_spent_Alone', 'Social_event_attendance', 'Going_outside']])"
   ]
  },
  {
   "cell_type": "code",
   "execution_count": 50,
   "metadata": {},
   "outputs": [
    {
     "data": {
      "text/html": [
       "<div>\n",
       "<style scoped>\n",
       "    .dataframe tbody tr th:only-of-type {\n",
       "        vertical-align: middle;\n",
       "    }\n",
       "\n",
       "    .dataframe tbody tr th {\n",
       "        vertical-align: top;\n",
       "    }\n",
       "\n",
       "    .dataframe thead th {\n",
       "        text-align: right;\n",
       "    }\n",
       "</style>\n",
       "<table border=\"1\" class=\"dataframe\">\n",
       "  <thead>\n",
       "    <tr style=\"text-align: right;\">\n",
       "      <th></th>\n",
       "      <th>id</th>\n",
       "      <th>Time_spent_Alone</th>\n",
       "      <th>Stage_fear</th>\n",
       "      <th>Social_event_attendance</th>\n",
       "      <th>Going_outside</th>\n",
       "      <th>Drained_after_socializing</th>\n",
       "      <th>Friends_circle_size</th>\n",
       "      <th>Post_frequency</th>\n",
       "      <th>Personality</th>\n",
       "    </tr>\n",
       "  </thead>\n",
       "  <tbody>\n",
       "    <tr>\n",
       "      <th>0</th>\n",
       "      <td>0</td>\n",
       "      <td>0.000000</td>\n",
       "      <td>No</td>\n",
       "      <td>0.6</td>\n",
       "      <td>0.571429</td>\n",
       "      <td>No</td>\n",
       "      <td>15.0</td>\n",
       "      <td>5.000000</td>\n",
       "      <td>Extrovert</td>\n",
       "    </tr>\n",
       "    <tr>\n",
       "      <th>1</th>\n",
       "      <td>1</td>\n",
       "      <td>0.090909</td>\n",
       "      <td>No</td>\n",
       "      <td>0.7</td>\n",
       "      <td>0.428571</td>\n",
       "      <td>No</td>\n",
       "      <td>10.0</td>\n",
       "      <td>8.000000</td>\n",
       "      <td>Extrovert</td>\n",
       "    </tr>\n",
       "    <tr>\n",
       "      <th>2</th>\n",
       "      <td>2</td>\n",
       "      <td>0.545455</td>\n",
       "      <td>Yes</td>\n",
       "      <td>0.1</td>\n",
       "      <td>0.000000</td>\n",
       "      <td>No</td>\n",
       "      <td>3.0</td>\n",
       "      <td>0.000000</td>\n",
       "      <td>Introvert</td>\n",
       "    </tr>\n",
       "    <tr>\n",
       "      <th>3</th>\n",
       "      <td>3</td>\n",
       "      <td>0.272727</td>\n",
       "      <td>No</td>\n",
       "      <td>0.7</td>\n",
       "      <td>0.428571</td>\n",
       "      <td>No</td>\n",
       "      <td>11.0</td>\n",
       "      <td>5.000000</td>\n",
       "      <td>Extrovert</td>\n",
       "    </tr>\n",
       "    <tr>\n",
       "      <th>4</th>\n",
       "      <td>4</td>\n",
       "      <td>0.090909</td>\n",
       "      <td>No</td>\n",
       "      <td>0.4</td>\n",
       "      <td>0.571429</td>\n",
       "      <td>No</td>\n",
       "      <td>13.0</td>\n",
       "      <td>4.982097</td>\n",
       "      <td>Extrovert</td>\n",
       "    </tr>\n",
       "  </tbody>\n",
       "</table>\n",
       "</div>"
      ],
      "text/plain": [
       "   id  Time_spent_Alone Stage_fear  Social_event_attendance  Going_outside  \\\n",
       "0   0          0.000000         No                      0.6       0.571429   \n",
       "1   1          0.090909         No                      0.7       0.428571   \n",
       "2   2          0.545455        Yes                      0.1       0.000000   \n",
       "3   3          0.272727         No                      0.7       0.428571   \n",
       "4   4          0.090909         No                      0.4       0.571429   \n",
       "\n",
       "  Drained_after_socializing  Friends_circle_size  Post_frequency Personality  \n",
       "0                        No                 15.0        5.000000   Extrovert  \n",
       "1                        No                 10.0        8.000000   Extrovert  \n",
       "2                        No                  3.0        0.000000   Introvert  \n",
       "3                        No                 11.0        5.000000   Extrovert  \n",
       "4                        No                 13.0        4.982097   Extrovert  "
      ]
     },
     "execution_count": 50,
     "metadata": {},
     "output_type": "execute_result"
    }
   ],
   "source": [
    "cleaned_df.head()"
   ]
  },
  {
   "cell_type": "code",
   "execution_count": 51,
   "metadata": {},
   "outputs": [],
   "source": [
    "le = LabelEncoder()\n",
    "# Encoding categorical variables\n",
    "cleaned_df[['Stage_fear', 'Drained_after_socializing']] = cleaned_df[['Stage_fear', 'Drained_after_socializing']].apply(le.fit_transform)"
   ]
  },
  {
   "cell_type": "code",
   "execution_count": 52,
   "metadata": {},
   "outputs": [
    {
     "data": {
      "text/html": [
       "<div>\n",
       "<style scoped>\n",
       "    .dataframe tbody tr th:only-of-type {\n",
       "        vertical-align: middle;\n",
       "    }\n",
       "\n",
       "    .dataframe tbody tr th {\n",
       "        vertical-align: top;\n",
       "    }\n",
       "\n",
       "    .dataframe thead th {\n",
       "        text-align: right;\n",
       "    }\n",
       "</style>\n",
       "<table border=\"1\" class=\"dataframe\">\n",
       "  <thead>\n",
       "    <tr style=\"text-align: right;\">\n",
       "      <th></th>\n",
       "      <th>id</th>\n",
       "      <th>Time_spent_Alone</th>\n",
       "      <th>Stage_fear</th>\n",
       "      <th>Social_event_attendance</th>\n",
       "      <th>Going_outside</th>\n",
       "      <th>Drained_after_socializing</th>\n",
       "      <th>Friends_circle_size</th>\n",
       "      <th>Post_frequency</th>\n",
       "      <th>Personality</th>\n",
       "    </tr>\n",
       "  </thead>\n",
       "  <tbody>\n",
       "    <tr>\n",
       "      <th>0</th>\n",
       "      <td>0</td>\n",
       "      <td>0.000000</td>\n",
       "      <td>0</td>\n",
       "      <td>0.6</td>\n",
       "      <td>0.571429</td>\n",
       "      <td>0</td>\n",
       "      <td>15.0</td>\n",
       "      <td>5.000000</td>\n",
       "      <td>Extrovert</td>\n",
       "    </tr>\n",
       "    <tr>\n",
       "      <th>1</th>\n",
       "      <td>1</td>\n",
       "      <td>0.090909</td>\n",
       "      <td>0</td>\n",
       "      <td>0.7</td>\n",
       "      <td>0.428571</td>\n",
       "      <td>0</td>\n",
       "      <td>10.0</td>\n",
       "      <td>8.000000</td>\n",
       "      <td>Extrovert</td>\n",
       "    </tr>\n",
       "    <tr>\n",
       "      <th>2</th>\n",
       "      <td>2</td>\n",
       "      <td>0.545455</td>\n",
       "      <td>1</td>\n",
       "      <td>0.1</td>\n",
       "      <td>0.000000</td>\n",
       "      <td>0</td>\n",
       "      <td>3.0</td>\n",
       "      <td>0.000000</td>\n",
       "      <td>Introvert</td>\n",
       "    </tr>\n",
       "    <tr>\n",
       "      <th>3</th>\n",
       "      <td>3</td>\n",
       "      <td>0.272727</td>\n",
       "      <td>0</td>\n",
       "      <td>0.7</td>\n",
       "      <td>0.428571</td>\n",
       "      <td>0</td>\n",
       "      <td>11.0</td>\n",
       "      <td>5.000000</td>\n",
       "      <td>Extrovert</td>\n",
       "    </tr>\n",
       "    <tr>\n",
       "      <th>4</th>\n",
       "      <td>4</td>\n",
       "      <td>0.090909</td>\n",
       "      <td>0</td>\n",
       "      <td>0.4</td>\n",
       "      <td>0.571429</td>\n",
       "      <td>0</td>\n",
       "      <td>13.0</td>\n",
       "      <td>4.982097</td>\n",
       "      <td>Extrovert</td>\n",
       "    </tr>\n",
       "  </tbody>\n",
       "</table>\n",
       "</div>"
      ],
      "text/plain": [
       "   id  Time_spent_Alone  Stage_fear  Social_event_attendance  Going_outside  \\\n",
       "0   0          0.000000           0                      0.6       0.571429   \n",
       "1   1          0.090909           0                      0.7       0.428571   \n",
       "2   2          0.545455           1                      0.1       0.000000   \n",
       "3   3          0.272727           0                      0.7       0.428571   \n",
       "4   4          0.090909           0                      0.4       0.571429   \n",
       "\n",
       "   Drained_after_socializing  Friends_circle_size  Post_frequency Personality  \n",
       "0                          0                 15.0        5.000000   Extrovert  \n",
       "1                          0                 10.0        8.000000   Extrovert  \n",
       "2                          0                  3.0        0.000000   Introvert  \n",
       "3                          0                 11.0        5.000000   Extrovert  \n",
       "4                          0                 13.0        4.982097   Extrovert  "
      ]
     },
     "execution_count": 52,
     "metadata": {},
     "output_type": "execute_result"
    }
   ],
   "source": [
    "cleaned_df.head()"
   ]
  },
  {
   "cell_type": "markdown",
   "metadata": {},
   "source": [
    "### Finding outliers isomg Z-score method"
   ]
  },
  {
   "cell_type": "code",
   "execution_count": 53,
   "metadata": {},
   "outputs": [
    {
     "name": "stdout",
     "output_type": "stream",
     "text": [
      "Here are outliers: [False False False ... False False False]\n",
      "Cleaned DataFrame after removing outliers:\n",
      "   id  Time_spent_Alone  Stage_fear  Social_event_attendance  Going_outside  \\\n",
      "0   0          0.000000           0                      0.6       0.571429   \n",
      "1   1          0.090909           0                      0.7       0.428571   \n",
      "2   2          0.545455           1                      0.1       0.000000   \n",
      "3   3          0.272727           0                      0.7       0.428571   \n",
      "4   4          0.090909           0                      0.4       0.571429   \n",
      "\n",
      "   Drained_after_socializing  Friends_circle_size  Post_frequency Personality  \n",
      "0                          0                 15.0        5.000000   Extrovert  \n",
      "1                          0                 10.0        8.000000   Extrovert  \n",
      "2                          0                  3.0        0.000000   Introvert  \n",
      "3                          0                 11.0        5.000000   Extrovert  \n",
      "4                          0                 13.0        4.982097   Extrovert  \n",
      "Shape of the cleaned DataFrame:\n",
      "(18524, 9)\n"
     ]
    }
   ],
   "source": [
    "from scipy.stats import zscore\n",
    "# Calculating z-scores for numerical columns\n",
    "z_scores = np.abs(zscore(cleaned_df[['Time_spent_Alone', 'Social_event_attendance', 'Going_outside', 'Friends_circle_size', 'Post_frequency']]))\n",
    "outliers = (z_scores > 3).any(axis=1)\n",
    "print(f\"Here are outliers: {outliers}\")\n",
    "# Removing outliers\n",
    "cleaned_df = cleaned_df[~outliers]\n",
    "# Displaying the cleaned dataframe\n",
    "print(\"Cleaned DataFrame after removing outliers:\")\n",
    "print(cleaned_df.head())\n",
    "# Displaying the shape of the cleaned dataframe \n",
    "print(\"Shape of the cleaned DataFrame:\")\n",
    "print(cleaned_df.shape)"
   ]
  },
  {
   "cell_type": "markdown",
   "metadata": {},
   "source": [
    "## Data Visualization"
   ]
  },
  {
   "cell_type": "code",
   "execution_count": 75,
   "metadata": {},
   "outputs": [
    {
     "data": {
      "image/png": "[encoded data removed]",
      "text/plain": [
       "<Figure size 1000x600 with 1 Axes>"
      ]
     },
     "metadata": {},
     "output_type": "display_data"
    },
    {
     "data": {
      "image/png": "[encoded data removed]",
      "text/plain": [
       "<Figure size 1500x1000 with 6 Axes>"
      ]
     },
     "metadata": {},
     "output_type": "display_data"
    },
    {
     "name": "stdout",
     "output_type": "stream",
     "text": [
      "Statistical summary of numerical features:\n",
      "                 id  Time_spent_Alone  Social_event_attendance  Going_outside  \\\n",
      "count  18524.000000      18524.000000             18524.000000   18524.000000   \n",
      "mean    9261.500000          3.137764                 5.265106       4.044319   \n",
      "std     5347.562529          2.905696                 2.664215       1.979276   \n",
      "min        0.000000          0.000000                 0.000000       0.000000   \n",
      "25%     4630.750000          1.000000                 3.000000       3.000000   \n",
      "50%     9261.500000          3.000000                 5.265106       4.000000   \n",
      "75%    13892.250000          4.000000                 7.000000       6.000000   \n",
      "max    18523.000000         11.000000                10.000000       7.000000   \n",
      "\n",
      "       Friends_circle_size  Post_frequency  \n",
      "count         18524.000000    18524.000000  \n",
      "mean              7.996737        4.982097  \n",
      "std               4.101561        2.779168  \n",
      "min               0.000000        0.000000  \n",
      "25%               5.000000        3.000000  \n",
      "50%               8.000000        5.000000  \n",
      "75%              11.000000        7.000000  \n",
      "max              15.000000       10.000000  \n"
     ]
    }
   ],
   "source": [
    "# Data visulization \n",
    "import matplotlib.pyplot as plt\n",
    "import seaborn as sns\n",
    "# Plotting the distribution of the target variable\n",
    "plt.figure(figsize=(10, 6))\n",
    "sns.countplot(x='Personality', data=df)\n",
    "plt.title('Distribution of Target Variable')\n",
    "plt.xlabel('Personality')\n",
    "plt.ylabel('Count')\n",
    "plt.show()\n",
    "# Plotting the distribution of numerical features\n",
    "numerical_features = df.select_dtypes(include=[np.number]).columns.tolist()\n",
    "plt.figure(figsize=(15, 10))\n",
    "for i, feature in enumerate(numerical_features):\n",
    "    plt.subplot(3, 3, i + 1)\n",
    "    sns.histplot(df[feature], kde=True)\n",
    "    plt.title(f'Distribution of {feature}')\n",
    "    plt.xlabel(feature)\n",
    "    plt.ylabel('Frequency')\n",
    "plt.tight_layout()\n",
    "plt.show()\n",
    "\n",
    "# Statistical summary of numerical features\n",
    "print(\"Statistical summary of numerical features:\")\n",
    "print(df.describe())\n"
   ]
  },
  {
   "cell_type": "markdown",
   "metadata": {},
   "source": [
    "## Train Test Split & Model Training\n"
   ]
  },
  {
   "cell_type": "code",
   "execution_count": 54,
   "metadata": {},
   "outputs": [
    {
     "name": "stdout",
     "output_type": "stream",
     "text": [
      "Shapes of the training and testing sets:\n",
      "X_train: (14819, 8), y_train: (14819,)\n",
      "First few rows of the training set:\n",
      "          id  Time_spent_Alone  Stage_fear  Social_event_attendance  \\\n",
      "1799    1799          0.090909           0                      0.7   \n",
      "11931  11931          0.181818           0                      0.4   \n",
      "14307  14307          0.363636           0                      0.5   \n",
      "12157  12157          0.272727           0                      0.6   \n",
      "18124  18124          0.181818           0                      0.7   \n",
      "\n",
      "       Going_outside  Drained_after_socializing  Friends_circle_size  \\\n",
      "1799        0.571429                          0                 10.0   \n",
      "11931       0.857143                          0                  6.0   \n",
      "14307       0.714286                          0                  7.0   \n",
      "12157       0.577760                          0                  8.0   \n",
      "18124       1.000000                          0                 15.0   \n",
      "\n",
      "       Post_frequency  \n",
      "1799              5.0  \n",
      "11931             8.0  \n",
      "14307             6.0  \n",
      "12157             8.0  \n",
      "18124             4.0  \n",
      "First few rows of the target variable:\n",
      "1799     Extrovert\n",
      "11931    Extrovert\n",
      "14307    Extrovert\n",
      "12157    Extrovert\n",
      "18124    Extrovert\n",
      "Name: Personality, dtype: object\n"
     ]
    }
   ],
   "source": [
    "# Importing train_test_split from sklearn\n",
    "from sklearn.model_selection import train_test_split\n",
    "# Splitting the data into features and target variable\n",
    "X = cleaned_df.drop('Personality', axis=1)\n",
    "y = cleaned_df['Personality']\n",
    "\n",
    "# Splitting the data into training and testing sets\n",
    "X_train, X_test, y_train, y_test = train_test_split(X, y, test_size=0.2, random_state=42)\n",
    "# Displaying the shapes of the training and testing sets\n",
    "print(\"Shapes of the training and testing sets:\")\n",
    "print(f\"X_train: {X_train.shape}, y_train: {y_train.shape}\")\n",
    "\n",
    "\n",
    "# Displaying the first few rows of the training set\n",
    "print(\"First few rows of the training set:\")\n",
    "print(X_train.head())\n",
    "# Displaying the first few rows of the target variable\n",
    "print(\"First few rows of the target variable:\")\n",
    "print(y_train.head())\n"
   ]
  },
  {
   "cell_type": "code",
   "execution_count": 55,
   "metadata": {},
   "outputs": [
    {
     "name": "stdout",
     "output_type": "stream",
     "text": [
      "Model training completed.\n"
     ]
    }
   ],
   "source": [
    "# Importing models from sklearn\n",
    "from sklearn.linear_model import LogisticRegression\n",
    "from sklearn.ensemble import RandomForestClassifier\n",
    "\n",
    "model = LogisticRegression(max_iter=1000)\n",
    "# Fitting the model on the training data\n",
    "model.fit(X_train, y_train)\n",
    "\n",
    "print(\"Model training completed.\")\n",
    "\n"
   ]
  },
  {
   "cell_type": "code",
   "execution_count": 56,
   "metadata": {},
   "outputs": [
    {
     "name": "stdout",
     "output_type": "stream",
     "text": [
      "Model accuracy: 96.84\n",
      "Confusion Matrix:\n",
      "[[2703   50]\n",
      " [  67  885]]\n",
      "Classification Report:\n",
      "              precision    recall  f1-score   support\n",
      "\n",
      "   Extrovert       0.98      0.98      0.98      2753\n",
      "   Introvert       0.95      0.93      0.94       952\n",
      "\n",
      "    accuracy                           0.97      3705\n",
      "   macro avg       0.96      0.96      0.96      3705\n",
      "weighted avg       0.97      0.97      0.97      3705\n",
      "\n"
     ]
    },
    {
     "data": {
      "text/plain": [
       "['personality_model.pkl']"
      ]
     },
     "execution_count": 56,
     "metadata": {},
     "output_type": "execute_result"
    }
   ],
   "source": [
    "# Importing accuracy_score from sklearn\n",
    "from sklearn.metrics import accuracy_score\n",
    "\n",
    "# Making predictions on the test set\n",
    "y_pred = model.predict(X_test)\n",
    "# Calculating the accuracy of the model\n",
    "accuracy = accuracy_score(y_test, y_pred)\n",
    "\n",
    "print(f\"Model accuracy: {accuracy * 100:.2f}\")\n",
    "\n",
    "# Importing confusion_matrix and classification_report from sklearn\n",
    "from sklearn.metrics import confusion_matrix, classification_report\n",
    "# Calculating confusion matrix\n",
    "cm = confusion_matrix(y_test, y_pred)\n",
    "# Displaying confusion matrix\n",
    "print(\"Confusion Matrix:\")\n",
    "print(cm)\n",
    "\n",
    "\n",
    "# Calculating classification report\n",
    "report = classification_report(y_test, y_pred)\n",
    "# Displaying classification report\n",
    "print(\"Classification Report:\")\n",
    "print(report)\n",
    "\n",
    "# Importing joblib to save the model\n",
    "import joblib\n",
    "# Saving the trained model to a file\n",
    "joblib.dump(model, 'personality_model.pkl')\n"
   ]
  },
  {
   "cell_type": "code",
   "execution_count": 57,
   "metadata": {},
   "outputs": [
    {
     "name": "stdout",
     "output_type": "stream",
     "text": [
      "          id  Time_spent_Alone  Stage_fear  Social_event_attendance  \\\n",
      "11773  11773          0.363636           1                      0.0   \n",
      "6367    6367          0.363636           0                      0.7   \n",
      "905      905          0.000000           0                      0.7   \n",
      "9431    9431          0.000000           0                      0.9   \n",
      "16491  16491          0.272727           0                      0.8   \n",
      "\n",
      "       Going_outside  Drained_after_socializing  Friends_circle_size  \\\n",
      "11773       0.142857                          1             4.000000   \n",
      "6367        0.714286                          0            13.000000   \n",
      "905         0.857143                          0             5.000000   \n",
      "9431        0.571429                          0             7.996737   \n",
      "16491       0.571429                          0            13.000000   \n",
      "\n",
      "       Post_frequency  \n",
      "11773             0.0  \n",
      "6367             10.0  \n",
      "905               9.0  \n",
      "9431              5.0  \n",
      "16491             4.0  \n",
      "Predictions for the sample data:\n",
      "['Introvert' 'Extrovert' 'Extrovert' 'Extrovert' 'Extrovert']\n"
     ]
    }
   ],
   "source": [
    "# loading model from a file\n",
    "loaded_model = joblib.load('personality_model.pkl')\n",
    "# Making predictions using the loaded model\n",
    "sample_data = X_test.sample(5)\n",
    "predictions = loaded_model.predict(sample_data)\n",
    "print(sample_data)\n",
    "\n",
    "\n",
    "# Displaying the predictions\n",
    "print(\"Predictions for the sample data:\")\n",
    "print(predictions)\n",
    "\n"
   ]
  },
  {
   "cell_type": "markdown",
   "metadata": {},
   "source": [
    "##  Predicting the personality Type using Trained Logistics Regression Model"
   ]
  },
  {
   "cell_type": "markdown",
   "metadata": {},
   "source": [
    "### Loading new Dataset"
   ]
  },
  {
   "cell_type": "code",
   "execution_count": 58,
   "metadata": {},
   "outputs": [
    {
     "name": "stdout",
     "output_type": "stream",
     "text": [
      "First few rows of the new data:\n",
      "      id  Time_spent_Alone Stage_fear  Social_event_attendance  Going_outside  \\\n",
      "0  18524               3.0         No                      7.0            4.0   \n",
      "1  18525               NaN        Yes                      0.0            0.0   \n",
      "2  18526               3.0         No                      5.0            6.0   \n",
      "3  18527               3.0         No                      4.0            4.0   \n",
      "4  18528               9.0        Yes                      1.0            2.0   \n",
      "\n",
      "  Drained_after_socializing  Friends_circle_size  Post_frequency  \n",
      "0                        No                  6.0             NaN  \n",
      "1                       Yes                  5.0             1.0  \n",
      "2                        No                 15.0             9.0  \n",
      "3                        No                  5.0             6.0  \n",
      "4                       Yes                  1.0             1.0  \n"
     ]
    }
   ],
   "source": [
    "# Predicting the personality type for a new sample\n",
    "file_path = r'D:\\Local Disk\\_python_prog\\awfera ML\\test.csv'\n",
    "# Reading the new sample data\n",
    "new_data = pd.read_csv(file_path)\n",
    "# pringint the first few rows of the new data\n",
    "print(\"First few rows of the new data:\")\n",
    "print(new_data.head())"
   ]
  },
  {
   "cell_type": "markdown",
   "metadata": {},
   "source": [
    "### Preprocessing the Dataset\n"
   ]
  },
  {
   "cell_type": "code",
   "execution_count": 59,
   "metadata": {},
   "outputs": [
    {
     "data": {
      "text/plain": [
       "id                             0\n",
       "Time_spent_Alone             425\n",
       "Stage_fear                   598\n",
       "Social_event_attendance      397\n",
       "Going_outside                466\n",
       "Drained_after_socializing    432\n",
       "Friends_circle_size          350\n",
       "Post_frequency               408\n",
       "dtype: int64"
      ]
     },
     "execution_count": 59,
     "metadata": {},
     "output_type": "execute_result"
    }
   ],
   "source": [
    "# Preprocessing the new data\n",
    "pd.isnull(new_data).sum()"
   ]
  },
  {
   "cell_type": "code",
   "execution_count": 60,
   "metadata": {},
   "outputs": [],
   "source": [
    "# handling missing values in the new data\n",
    "# Filling missing values in 'Time_spent_Alone' with the mean\n",
    "new_data['Time_spent_Alone'].fillna(new_data['Time_spent_Alone'].mean(), inplace=True)\n",
    "# Filling missing values in 'Stage_fear' with the mode of 'Stage_fear'\n",
    "new_data['Stage_fear'].fillna(new_data['Stage_fear'].mode()[0], inplace=True)\n",
    "# Filling missing values in 'Social_event_attendance' with the mean\n",
    "new_data['Social_event_attendance'].fillna(new_data['Social_event_attendance'].mean(), inplace=True)\n",
    "# Filling missing values in 'Going_outside' with the mean\n",
    "new_data['Going_outside'].fillna(new_data['Going_outside'].mean(), inplace=True)\n",
    "# Filling missing values in 'Drained_after_socializing' with the mode\n",
    "new_data['Drained_after_socializing'].fillna(new_data['Drained_after_socializing'].mode()[0], inplace=True)\n",
    "# Filling missing values in 'Friends_circle_size' with the mean\n",
    "new_data['Friends_circle_size'].fillna(new_data['Friends_circle_size'].mean(), inplace=True)\n",
    "# Filling missing values in 'Post_frequencye' with the mean\n",
    "new_data['Post_frequency'].fillna(new_data['Post_frequency'].mean(), inplace=True)"
   ]
  },
  {
   "cell_type": "code",
   "execution_count": 61,
   "metadata": {},
   "outputs": [
    {
     "data": {
      "text/plain": [
       "id                           0\n",
       "Time_spent_Alone             0\n",
       "Stage_fear                   0\n",
       "Social_event_attendance      0\n",
       "Going_outside                0\n",
       "Drained_after_socializing    0\n",
       "Friends_circle_size          0\n",
       "Post_frequency               0\n",
       "dtype: int64"
      ]
     },
     "execution_count": 61,
     "metadata": {},
     "output_type": "execute_result"
    }
   ],
   "source": [
    "pd.isnull(new_data).sum()"
   ]
  },
  {
   "cell_type": "markdown",
   "metadata": {},
   "source": [
    "### Scalling the Dataset\n"
   ]
  },
  {
   "cell_type": "code",
   "execution_count": 62,
   "metadata": {},
   "outputs": [],
   "source": [
    "scaller = MinMaxScaler()\n",
    "new_data[['Time_spent_Alone', 'Social_event_attendance', 'Going_outside']] = scaller.fit_transform(new_data[['Time_spent_Alone', 'Social_event_attendance', 'Going_outside']])"
   ]
  },
  {
   "cell_type": "code",
   "execution_count": 63,
   "metadata": {},
   "outputs": [],
   "source": [
    "le = LabelEncoder()\n",
    "# Encoding categorical variables in the new data\n",
    "new_data[['Stage_fear', 'Drained_after_socializing']] = new_data[['Stage_fear', 'Drained_after_socializing']].apply(le.fit_transform)\n"
   ]
  },
  {
   "cell_type": "code",
   "execution_count": 64,
   "metadata": {},
   "outputs": [
    {
     "name": "stdout",
     "output_type": "stream",
     "text": [
      "First few rows of the preprocessed new data:\n",
      "      id  Time_spent_Alone  Stage_fear  Social_event_attendance  \\\n",
      "0  18524          0.272727           0                      0.7   \n",
      "1  18525          0.283352           1                      0.0   \n",
      "2  18526          0.272727           0                      0.5   \n",
      "3  18527          0.272727           0                      0.4   \n",
      "4  18528          0.818182           1                      0.1   \n",
      "\n",
      "   Going_outside  Drained_after_socializing  Friends_circle_size  \\\n",
      "0       0.571429                          0                  6.0   \n",
      "1       0.000000                          1                  5.0   \n",
      "2       0.857143                          0                 15.0   \n",
      "3       0.571429                          0                  5.0   \n",
      "4       0.285714                          1                  1.0   \n",
      "\n",
      "   Post_frequency  \n",
      "0        5.028958  \n",
      "1        1.000000  \n",
      "2        9.000000  \n",
      "3        6.000000  \n",
      "4        1.000000  \n"
     ]
    }
   ],
   "source": [
    "print(\"First few rows of the preprocessed new data:\")\n",
    "print(new_data.head())"
   ]
  },
  {
   "cell_type": "code",
   "execution_count": 65,
   "metadata": {},
   "outputs": [
    {
     "name": "stdout",
     "output_type": "stream",
     "text": [
      "Predictions for the new data:\n",
      "['Extrovert' 'Introvert' 'Extrovert' ... 'Extrovert' 'Extrovert'\n",
      " 'Introvert']\n",
      "Predictions saved to 'predicted_personality.csv'.\n"
     ]
    }
   ],
   "source": [
    "# making prediction on the new data\n",
    "new_predictions = loaded_model.predict(new_data)\n",
    "# Displaying the predictions for the new data\n",
    "print(\"Predictions for the new data:\")\n",
    "print(new_predictions)\n",
    "\n",
    "# Saving the predictions to a CSV file\n",
    "new_data['Predicted_Personality'] = new_predictions\n",
    "new_data.to_csv('predicted_personality.csv', index=False)\n",
    "print(\"Predictions saved to 'predicted_personality.csv'.\")\n"
   ]
  },
  {
   "cell_type": "markdown",
   "metadata": {},
   "source": [
    "## Training Random Forest Model\n"
   ]
  },
  {
   "cell_type": "code",
   "execution_count": 66,
   "metadata": {},
   "outputs": [
    {
     "name": "stdout",
     "output_type": "stream",
     "text": [
      "Random Forest model training completed.\n"
     ]
    }
   ],
   "source": [
    "# training random forest classifier\n",
    "rf_model = RandomForestClassifier(n_estimators=100, random_state=42)\n",
    "# Fitting the random forest model on the training data\n",
    "rf_model.fit(X_train, y_train)\n",
    "# printing the model training completion message\n",
    "print(\"Random Forest model training completed.\")\n"
   ]
  },
  {
   "cell_type": "code",
   "execution_count": 67,
   "metadata": {},
   "outputs": [
    {
     "name": "stdout",
     "output_type": "stream",
     "text": [
      "Random Forest model accuracy: 96.82\n",
      "Random Forest Confusion Matrix:\n",
      "[[2703   50]\n",
      " [  68  884]]\n"
     ]
    }
   ],
   "source": [
    "# Making predictions on the test set using the random forest model\n",
    "rf_y_pred = rf_model.predict(X_test)\n",
    "# Calculating the accuracy of the random forest model\n",
    "rf_accuracy = accuracy_score(y_test, rf_y_pred)\n",
    "print(f\"Random Forest model accuracy: {rf_accuracy * 100:.2f}\")\n",
    "# Calculating confusion matrix for the random forest model\n",
    "rf_cm = confusion_matrix(y_test, rf_y_pred)\n",
    "# Displaying confusion matrix for the random forest model\n",
    "print(\"Random Forest Confusion Matrix:\")\n",
    "print(rf_cm)\n",
    "# Calculating classification report for the random forest model\n",
    "rf_report = classification_report(y_test, rf_y_pred)\n",
    "\n",
    "# # Saving the random forest model to a file\n",
    "# joblib.dump(rf_model, 'rf_personality_model.pkl')\n",
    "\n",
    "\n"
   ]
  },
  {
   "cell_type": "code",
   "execution_count": 68,
   "metadata": {},
   "outputs": [
    {
     "name": "stdout",
     "output_type": "stream",
     "text": [
      "Index(['id', 'Time_spent_Alone', 'Stage_fear', 'Social_event_attendance',\n",
      "       'Going_outside', 'Drained_after_socializing', 'Friends_circle_size',\n",
      "       'Post_frequency', 'Predicted_Personality'],\n",
      "      dtype='object')\n"
     ]
    }
   ],
   "source": [
    "print(new_data.columns)"
   ]
  },
  {
   "cell_type": "code",
   "execution_count": 69,
   "metadata": {},
   "outputs": [
    {
     "name": "stdout",
     "output_type": "stream",
     "text": [
      "      id  Time_spent_Alone  Stage_fear  Social_event_attendance  \\\n",
      "0  18524          0.272727           0                      0.7   \n",
      "1  18525          0.283352           1                      0.0   \n",
      "2  18526          0.272727           0                      0.5   \n",
      "3  18527          0.272727           0                      0.4   \n",
      "4  18528          0.818182           1                      0.1   \n",
      "\n",
      "   Going_outside  Drained_after_socializing  Friends_circle_size  \\\n",
      "0       0.571429                          0                  6.0   \n",
      "1       0.000000                          1                  5.0   \n",
      "2       0.857143                          0                 15.0   \n",
      "3       0.571429                          0                  5.0   \n",
      "4       0.285714                          1                  1.0   \n",
      "\n",
      "   Post_frequency Predicted_Personality  \n",
      "0        5.028958             Extrovert  \n",
      "1        1.000000             Introvert  \n",
      "2        9.000000             Extrovert  \n",
      "3        6.000000             Extrovert  \n",
      "4        1.000000             Introvert  \n"
     ]
    }
   ],
   "source": [
    "print(new_data.head())"
   ]
  },
  {
   "cell_type": "code",
   "execution_count": 70,
   "metadata": {},
   "outputs": [
    {
     "name": "stdout",
     "output_type": "stream",
     "text": [
      "      id  Time_spent_Alone  Stage_fear  Social_event_attendance  \\\n",
      "0  18524          0.272727           0                      0.7   \n",
      "1  18525          0.283352           1                      0.0   \n",
      "2  18526          0.272727           0                      0.5   \n",
      "3  18527          0.272727           0                      0.4   \n",
      "4  18528          0.818182           1                      0.1   \n",
      "\n",
      "   Going_outside  Drained_after_socializing  Friends_circle_size  \\\n",
      "0       0.571429                          0                  6.0   \n",
      "1       0.000000                          1                  5.0   \n",
      "2       0.857143                          0                 15.0   \n",
      "3       0.571429                          0                  5.0   \n",
      "4       0.285714                          1                  1.0   \n",
      "\n",
      "   Post_frequency  \n",
      "0        5.028958  \n",
      "1        1.000000  \n",
      "2        9.000000  \n",
      "3        6.000000  \n",
      "4        1.000000  \n"
     ]
    }
   ],
   "source": [
    "new_test_data = new_data.drop('Predicted_Personality', axis=1)\n",
    "print(new_test_data.head())\n"
   ]
  },
  {
   "cell_type": "code",
   "execution_count": 71,
   "metadata": {},
   "outputs": [
    {
     "name": "stdout",
     "output_type": "stream",
     "text": [
      "Random Forest Predictions for the new data:\n",
      "['Extrovert' 'Introvert' 'Extrovert' ... 'Extrovert' 'Extrovert'\n",
      " 'Introvert']\n",
      "Random Forest predictions saved to 'predicted_personality_rf.csv'.\n"
     ]
    }
   ],
   "source": [
    "# making predictions on a new dataset\n",
    "re_predictions = rf_model.predict(new_test_data)\n",
    "# Displaying the predictions for the new data using the random forest model\n",
    "print(\"Random Forest Predictions for the new data:\")\n",
    "print(re_predictions)\n",
    "\n",
    "# Saving the predictions to a CSV file using the random forest model\n",
    "new_test_data['Predicted_Personality_RF'] = re_predictions\n",
    "new_test_data.to_csv('predicted_personality_rf.csv', index=False)\n",
    "print(\"Random Forest predictions saved to 'predicted_personality_rf.csv'.\")\n",
    "\n",
    "\n"
   ]
  }
 ],
 "metadata": {
  "kernelspec": {
   "display_name": "forecastenv",
   "language": "python",
   "name": "python3"
  },
  "language_info": {
   "codemirror_mode": {
    "name": "ipython",
    "version": 3
   },
   "file_extension": ".py",
   "mimetype": "text/x-python",
   "name": "python",
   "nbconvert_exporter": "python",
   "pygments_lexer": "ipython3",
   "version": "3.10.17"
  }
 },
 "nbformat": 4,
 "nbformat_minor": 2
}
